{
 "cells": [
  {
   "cell_type": "code",
   "execution_count": 1,
   "metadata": {},
   "outputs": [],
   "source": [
    "from dataclasses import dataclass\n",
    "from pathlib import Path\n",
    "\n",
    "@dataclass(frozen=True)\n",
    "class EvaluationConfig:\n",
    "    path_of_model: Path\n",
    "    test_data: Path\n",
    "    "
   ]
  },
  {
   "cell_type": "code",
   "execution_count": 2,
   "metadata": {},
   "outputs": [],
   "source": [
    "from deepClassifier.constants import *"
   ]
  },
  {
   "cell_type": "code",
   "execution_count": 3,
   "metadata": {},
   "outputs": [],
   "source": [
    "import os"
   ]
  },
  {
   "cell_type": "code",
   "execution_count": 46,
   "metadata": {},
   "outputs": [],
   "source": [
    "from deepClassifier.utils import read_yaml,create_directories,save_json"
   ]
  },
  {
   "cell_type": "code",
   "execution_count": 12,
   "metadata": {},
   "outputs": [],
   "source": [
    "class ConfigurationManager:\n",
    "    def __init__(self,CONFIG_FILE_PATH=CONFIG_FILE_PATH):\n",
    "        self.config = read_yaml(CONFIG_FILE_PATH)\n",
    "    \n",
    "    def get_evaluation_config(self)->EvaluationConfig:\n",
    "        EvaluationConfig.path_of_model = self.config.training.trained_model_path\n",
    "        EvaluationConfig.test_data = self.config.data_ingestion.unzip_dir\n",
    "        return EvaluationConfig\n",
    "        "
   ]
  },
  {
   "cell_type": "code",
   "execution_count": 5,
   "metadata": {},
   "outputs": [],
   "source": [
    "os.chdir(\"../\")"
   ]
  },
  {
   "cell_type": "code",
   "execution_count": 13,
   "metadata": {},
   "outputs": [],
   "source": [
    "c1 = ConfigurationManager()\n",
    "evaluation_config =c1.get_evaluation_config()"
   ]
  },
  {
   "cell_type": "code",
   "execution_count": 16,
   "metadata": {},
   "outputs": [],
   "source": [
    "import tensorflow as tf"
   ]
  },
  {
   "cell_type": "code",
   "execution_count": null,
   "metadata": {},
   "outputs": [],
   "source": [
    "class Evaluation:\n",
    "    def __init__(self,evaluation_config:EvaluationConfig):\n",
    "        self.evaluation_config = evaluation_config\n",
    "\n",
    "    def Evaluate_model(self,):\n",
    "        tf.keras"
   ]
  },
  {
   "cell_type": "code",
   "execution_count": 17,
   "metadata": {},
   "outputs": [
    {
     "ename": "AttributeError",
     "evalue": "'str' object has no attribute 'glob'",
     "output_type": "error",
     "traceback": [
      "\u001b[1;31m---------------------------------------------------------------------------\u001b[0m",
      "\u001b[1;31mAttributeError\u001b[0m                            Traceback (most recent call last)",
      "Cell \u001b[1;32mIn[17], line 1\u001b[0m\n\u001b[1;32m----> 1\u001b[0m total_images \u001b[39m=\u001b[39m \u001b[39mlen\u001b[39m(\u001b[39mlist\u001b[39m(evaluation_config\u001b[39m.\u001b[39;49mtest_data\u001b[39m.\u001b[39;49mglob(\u001b[39m\"\u001b[39m\u001b[39m*/*.jpg\u001b[39m\u001b[39m\"\u001b[39m)))\n",
      "\u001b[1;31mAttributeError\u001b[0m: 'str' object has no attribute 'glob'"
     ]
    }
   ],
   "source": []
  },
  {
   "cell_type": "code",
   "execution_count": 24,
   "metadata": {},
   "outputs": [
    {
     "data": {
      "text/plain": [
       "WindowsPath('artifacts/data_ingestion/PetImages')"
      ]
     },
     "execution_count": 24,
     "metadata": {},
     "output_type": "execute_result"
    }
   ],
   "source": [
    "dir_path = Path(os.path.join(evaluation_config.test_data,'PetImages'))\n",
    "dir_path"
   ]
  },
  {
   "cell_type": "code",
   "execution_count": 25,
   "metadata": {},
   "outputs": [],
   "source": [
    "total_images = len(list(dir_path.glob(\"*/*.jpg\")))"
   ]
  },
  {
   "cell_type": "code",
   "execution_count": 31,
   "metadata": {},
   "outputs": [],
   "source": [
    "dogs =list(dir_path.glob(\"Dog/*.jpg\"))\n"
   ]
  },
  {
   "cell_type": "code",
   "execution_count": 29,
   "metadata": {},
   "outputs": [],
   "source": [
    "import PIL"
   ]
  },
  {
   "cell_type": "code",
   "execution_count": 37,
   "metadata": {},
   "outputs": [
    {
     "data": {
      "text/plain": [
       "'artifacts/training/model.h5'"
      ]
     },
     "execution_count": 37,
     "metadata": {},
     "output_type": "execute_result"
    }
   ],
   "source": [
    "evaluation_config.path_of_model"
   ]
  },
  {
   "cell_type": "code",
   "execution_count": 38,
   "metadata": {},
   "outputs": [],
   "source": [
    "model = tf.keras.models.load_model(evaluation_config.path_of_model)"
   ]
  },
  {
   "cell_type": "code",
   "execution_count": 43,
   "metadata": {},
   "outputs": [
    {
     "name": "stdout",
     "output_type": "stream",
     "text": [
      "Found 4353 images belonging to 2 classes.\n"
     ]
    }
   ],
   "source": [
    "valid_gen= tf.keras.preprocessing.image.ImageDataGenerator(rescale=1./255,validation_split=0.3)\n",
    "valid_data_gen = valid_gen.flow_from_directory(directory=dir_path,\n",
    "                                    target_size=(224,224),\n",
    "                                    batch_size=16,\n",
    "                                    subset=\"validation\",\n",
    "                                    interpolation=\"bilinear\",\n",
    "                                    shuffle=False)"
   ]
  },
  {
   "cell_type": "code",
   "execution_count": 44,
   "metadata": {},
   "outputs": [
    {
     "name": "stdout",
     "output_type": "stream",
     "text": [
      "273/273 [==============================] - 566s 2s/step - loss: 2.1671 - accuracy: 0.8284\n"
     ]
    }
   ],
   "source": [
    "score = model.evaluate(valid_data_gen)"
   ]
  },
  {
   "cell_type": "code",
   "execution_count": 47,
   "metadata": {},
   "outputs": [],
   "source": [
    "scores ={\"loss\":score[0],\"accuracy\":score[1]}"
   ]
  },
  {
   "cell_type": "code",
   "execution_count": 48,
   "metadata": {},
   "outputs": [
    {
     "data": {
      "text/plain": [
       "{'loss': 2.1671340465545654, 'accuracy': 0.8283942341804504}"
      ]
     },
     "execution_count": 48,
     "metadata": {},
     "output_type": "execute_result"
    }
   ],
   "source": []
  },
  {
   "cell_type": "code",
   "execution_count": 52,
   "metadata": {},
   "outputs": [],
   "source": [
    "def save_score(data):\n",
    "    save_json(Path(\"scores.json\"),data)\n"
   ]
  },
  {
   "cell_type": "code",
   "execution_count": 53,
   "metadata": {},
   "outputs": [],
   "source": [
    "save_score(data=scores)"
   ]
  },
  {
   "cell_type": "code",
   "execution_count": null,
   "metadata": {},
   "outputs": [],
   "source": []
  }
 ],
 "metadata": {
  "kernelspec": {
   "display_name": "Python 3",
   "language": "python",
   "name": "python3"
  },
  "language_info": {
   "codemirror_mode": {
    "name": "ipython",
    "version": 3
   },
   "file_extension": ".py",
   "mimetype": "text/x-python",
   "name": "python",
   "nbconvert_exporter": "python",
   "pygments_lexer": "ipython3",
   "version": "3.8.15"
  },
  "orig_nbformat": 4,
  "vscode": {
   "interpreter": {
    "hash": "884fa0333d25cf7e4a354c3f39094f0f8ff7f68e6838bc5cc4f4b29bada05a40"
   }
  }
 },
 "nbformat": 4,
 "nbformat_minor": 2
}
